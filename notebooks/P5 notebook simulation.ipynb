{
 "cells": [
  {
   "cell_type": "code",
   "execution_count": 11,
   "id": "da1c87a3-60f0-4ff1-bbe0-5d32a2ad48b5",
   "metadata": {},
   "outputs": [
    {
     "name": "stdout",
     "output_type": "stream",
     "text": [
      "Current directory: /Users/nataschajademinnitt/Documents/5. Data Analysis/segmenting_customers\n"
     ]
    }
   ],
   "source": [
    "# Libraries\n",
    "import warnings\n",
    "import os\n",
    "import numpy as np\n",
    "import pandas as pd\n",
    "import matplotlib.pyplot as plt\n",
    "import seaborn as sns\n",
    "from sklearn.pipeline import Pipeline\n",
    "from sklearn.cluster import KMeans, DBSCAN, AgglomerativeClustering\n",
    "from sklearn.preprocessing import MinMaxScaler, RobustScaler, StandardScaler\n",
    "from sklearn.metrics import silhouette_score, calinski_harabasz_score, davies_bouldin_score\n",
    "from yellowbrick.cluster import KElbowVisualizer, SilhouetteVisualizer, InterclusterDistance\n",
    "from sklearn.neighbors import NearestNeighbors\n",
    "\n",
    "# Set-up environment\n",
    "pd.options.display.float_format = '{:.2f}'.format\n",
    "pd.set_option('display.max_colwidth', None)\n",
    "sns.set_theme(style=\"whitegrid\", context=\"paper\")\n",
    "os.chdir('/Users/nataschajademinnitt/Documents/5. Data Analysis/segmenting_customers/')\n",
    "print(\"Current directory:\", os.getcwd())\n",
    "warnings.filterwarnings(\"ignore\")"
   ]
  },
  {
   "cell_type": "code",
   "execution_count": 88,
   "id": "e8c8de28-573b-4083-8044-2bbb20ce558d",
   "metadata": {},
   "outputs": [
    {
     "name": "stdout",
     "output_type": "stream",
     "text": [
      "<class 'pandas.core.frame.DataFrame'>\n",
      "RangeIndex: 72620 entries, 0 to 72619\n",
      "Data columns (total 5 columns):\n",
      " #   Column                    Non-Null Count  Dtype  \n",
      "---  ------                    --------------  -----  \n",
      " 0   order_purchase_timestamp  72620 non-null  object \n",
      " 1   recent_flag               72620 non-null  int64  \n",
      " 2   f_returning               72620 non-null  int64  \n",
      " 3   m_price_log               72620 non-null  float64\n",
      " 4   s_delivery_diff_binary    72620 non-null  int64  \n",
      "dtypes: float64(1), int64(3), object(1)\n",
      "memory usage: 2.8+ MB\n"
     ]
    }
   ],
   "source": [
    "# Load the data\n",
    "df = pd.read_csv(\"./data/processed/df_maintenance_database.csv\")\n",
    "df.info()"
   ]
  },
  {
   "cell_type": "code",
   "execution_count": 90,
   "id": "59b73a4a-ef18-4f14-94c0-205bec083a04",
   "metadata": {},
   "outputs": [],
   "source": [
    "import pandas as pd\n",
    "import numpy as np\n",
    "from sklearn.cluster import KMeans\n",
    "from sklearn.metrics import adjusted_rand_score\n",
    "from scipy.stats import ks_2samp\n",
    "from sklearn.preprocessing import MinMaxScaler\n",
    "\n",
    "# 1) Make sure the column is datetime…\n",
    "df['order_purchase_timestamp'] = pd.to_datetime(df['order_purchase_timestamp'])\n",
    "\n",
    "# 2) Set it as the index and sort\n",
    "df = df.set_index('order_purchase_timestamp').sort_index()\n",
    "\n",
    "# 3) Compute dynamic start/end off that index\n",
    "end   = df.index.max()                  # now this is a Timestamp\n",
    "start = end - pd.DateOffset(years=1)\n",
    "\n",
    "# 4) Label‐based slice\n",
    "ref_window = df.loc[start:end]"
   ]
  },
  {
   "cell_type": "code",
   "execution_count": 92,
   "id": "902728d2-26e9-46c3-8f7c-0e8c926a8d52",
   "metadata": {},
   "outputs": [],
   "source": [
    "# 5) Proceed as before\n",
    "FEATURES = ['recent_flag','f_returning','m_price_log','s_delivery_diff_binary']\n",
    "scaler = MinMaxScaler().fit(ref_window[FEATURES])\n",
    "X_ref  = scaler.transform(ref_window[FEATURES])\n",
    "kmeans = KMeans(n_clusters=4, random_state=42).fit(X_ref)\n",
    "\n",
    "\n",
    "# 4) Train your KMeans on that same window\n",
    "kmeans     = KMeans(n_clusters=4, random_state=42).fit(X_ref)\n",
    "labels_ref = kmeans.labels_"
   ]
  },
  {
   "cell_type": "code",
   "execution_count": 98,
   "id": "57da0e6c-55ad-46b1-bef9-3dd336164480",
   "metadata": {},
   "outputs": [],
   "source": [
    "from scipy.stats import ks_2samp\n",
    "from sklearn.metrics import adjusted_rand_score\n",
    "\n",
    "def evaluate_period(start, end):\n",
    "    # ensure df is indexed by datetime and sorted:\n",
    "    #   df = df.set_index('order_purchase_timestamp').sort_index()\n",
    "\n",
    "    # 1) turn the inputs into Timestamp objects\n",
    "    start_ts = pd.to_datetime(start)\n",
    "    end_ts   = pd.to_datetime(end)\n",
    "\n",
    "    # 2) label‐based slice on your datetime index\n",
    "    sub = df.loc[start_ts:end_ts]\n",
    "\n",
    "    # 3) extract & scale\n",
    "    X_sub = scaler.transform(sub[FEATURES])\n",
    "\n",
    "    # 4a) Predict with the reference model\n",
    "    pred_labels = kmeans.predict(X_sub)\n",
    "\n",
    "    # 4b) Re‑cluster from scratch\n",
    "    new_labels = KMeans(n_clusters=4, random_state=42).fit_predict(X_sub)\n",
    "\n",
    "    # 4c) Compute ARI\n",
    "    ari = adjusted_rand_score(pred_labels, new_labels)\n",
    "\n",
    "    # 4d) KS‑tests for each feature vs. reference window\n",
    "    ks_results = {\n",
    "        feat: ks_2samp(ref_window[feat], sub[feat]).pvalue\n",
    "        for feat in FEATURES\n",
    "    }\n",
    "\n",
    "    return {\n",
    "        'period': f\"{start_ts.date()} to {end_ts.date()}\",\n",
    "        'ARI': ari,\n",
    "        **{f\"KS_{feat}\": p for feat, p in ks_results.items()}\n",
    "    }\n"
   ]
  },
  {
   "cell_type": "code",
   "execution_count": 106,
   "id": "59a70ed9-b56a-4c8c-af94-13f090376bd2",
   "metadata": {},
   "outputs": [
    {
     "data": {
      "text/plain": [
       "{'period': '2017-08-29 to 2018-02-28',\n",
       " 'ARI': 0.30251297977424085,\n",
       " 'KS_recent_flag': 0.0,\n",
       " 'KS_f_returning': 0.9835021407357827,\n",
       " 'KS_m_price_log': 0.002200170982152518,\n",
       " 'KS_s_delivery_diff_binary': 0.6553971357169683}"
      ]
     },
     "execution_count": 106,
     "metadata": {},
     "output_type": "execute_result"
    }
   ],
   "source": [
    "res1 = evaluate_period('2017-08-29', '2018-02-28')\n",
    "res1"
   ]
  },
  {
   "cell_type": "code",
   "execution_count": 108,
   "id": "7450d2cb-0953-49b6-8359-ee71a114fdad",
   "metadata": {},
   "outputs": [
    {
     "data": {
      "text/plain": [
       "{'period': '2018-03-01 to 2018-08-28',\n",
       " 'ARI': 0.7675645434707628,\n",
       " 'KS_recent_flag': 0.0,\n",
       " 'KS_f_returning': 0.9942307153118107,\n",
       " 'KS_m_price_log': 0.004732420371023207,\n",
       " 'KS_s_delivery_diff_binary': 0.46017729378285155}"
      ]
     },
     "execution_count": 108,
     "metadata": {},
     "output_type": "execute_result"
    }
   ],
   "source": [
    "res2 = evaluate_period('2018-03-01', '2018-08-28')\n",
    "res2"
   ]
  }
 ],
 "metadata": {
  "kernelspec": {
   "display_name": "Python 3 (ipykernel)",
   "language": "python",
   "name": "python3"
  },
  "language_info": {
   "codemirror_mode": {
    "name": "ipython",
    "version": 3
   },
   "file_extension": ".py",
   "mimetype": "text/x-python",
   "name": "python",
   "nbconvert_exporter": "python",
   "pygments_lexer": "ipython3",
   "version": "3.11.7"
  }
 },
 "nbformat": 4,
 "nbformat_minor": 5
}
